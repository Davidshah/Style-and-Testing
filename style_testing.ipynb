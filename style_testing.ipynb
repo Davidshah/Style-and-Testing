{
 "cells": [
  {
   "cell_type": "markdown",
   "metadata": {},
   "source": [
    "# Style and Testing\n",
    "\n",
    "> \"Good design adds value faster than it adds cost.\" - Thomas C. Gale"
   ]
  },
  {
   "cell_type": "markdown",
   "metadata": {},
   "source": [
    "### Introduction\n",
    "\n",
    "We would be remiss in our study of programming if we did not devote some time to the crafting of quality code. This subject can be a bit subjective and many programmers have a dogmatic attachment to what they believe is actually quality code. Luckily, some standards have emerged. The [Python Enhancement Proposal (PEP 8)](https://www.python.org/dev/peps/pep-0008/) is the go-to style guide for Python code. The [Google Python Style Guide](https://google.github.io/styleguide/pyguide.html) is another good resource. For an interactive guide, consider [Code Like a Pythonista](http://python.net/~goodger/projects/pycon/2007/idiomatic/).\n",
    "\n",
    "The Zen of Python puts it best:\n",
    "\n",
    "> \n",
    "Beautiful is better than ugly.  \n",
    "Explicit is better than implicit.  \n",
    "Simple is better than complex.  \n",
    "Complex is better than complicated.  \n",
    "Flat is better than nested.  \n",
    "Sparse is better than dense.  \n",
    "Readability counts.  \n",
    "Special cases aren't special enough to break the rules.  \n",
    "Although practicality beats purity.  \n",
    "Errors should never pass silently.  \n",
    "Unless explicitly silenced.  \n",
    "In the face of ambiguity, refuse the temptation to guess.  \n",
    "There should be one—and preferably only one—obvious way to do it.  \n",
    "Although that way may not be obvious at first unless you're Dutch.  \n",
    "Now is better than never.  \n",
    "Although never is often better than right now.  \n",
    "If the implementation is hard to explain, it's a bad idea.  \n",
    "If the implementation is easy to explain, it may be a good idea.  \n",
    "Namespaces are one honking great idea—let's do more of those!"
   ]
  },
  {
   "cell_type": "markdown",
   "metadata": {},
   "source": [
    "### Example problem\n",
    "\n",
    "We'll use the palindrome problem as an example of how to craft quality code. We'll design, code, and validate a solution with the focus being on readability. Let's start the way we always do and model the problem.\n",
    "\n",
    "Given a lowercase string `s`:\n",
    "* Write a function `is_palindrome` that returns true if the string is a palindrome (reads the same in reverse) and false if the string is not a palindrome.\n",
    "\n",
    "For example:\n",
    "```\n",
    ">>> is_palindrome('racecar')\n",
    "True\n",
    ">>> is_palindrome('apple')\n",
    "False\n",
    "```"
   ]
  },
  {
   "cell_type": "markdown",
   "metadata": {},
   "source": [
    "### Finding an algroithm to solve the problem\n",
    "\n",
    "Let's brainstorm some solutions to the problem. The simplest algorithm would probably be to just brute force the solution. We could simply reverse the given string and then compare it to the original string.\n",
    "\n",
    "Can we do better? Well, instead of reversing the whole string, we could just split the string into two halves and only reverse the second half. Comparing the first half to the reveresed second half will give us our solution.\n",
    "\n",
    "Can we do better? Both these solutions end up doing work that may not be necessary. For example, if the first and last letters in a string aren't the same, we can confidently say the string is not a palindrome without any further effort. Algorithmically, we compare the first letter to the last letter, if different return false, if the same compare the second character to the second to last character, repeat until the middle of the string is reached."
   ]
  },
  {
   "cell_type": "markdown",
   "metadata": {},
   "source": [
    "### Designing our function\n",
    "\n",
    "When designing the function to solve this problem we'll want to include 6 things:\n",
    "1. Examples\n",
    "2. Type Contract\n",
    "3. Header\n",
    "4. Description\n",
    "5. Body\n",
    "6. Test\n",
    "\n",
    "Let's start with examples. What do we want our function to be able to do? If we feed our function `'racecar'`, we want it to return `True`, and if we feed it `'apple'` we want it to return `False`:"
   ]
  },
  {
   "cell_type": "code",
   "execution_count": null,
   "metadata": {
    "collapsed": false
   },
   "outputs": [],
   "source": [
    "def ...:\n",
    "    \"\"\"\n",
    "    \n",
    "    >>> is_palindrome('racecar')\n",
    "    True\n",
    "    >>> is_palindrome('apple')\n",
    "    False\n",
    "    \"\"\""
   ]
  },
  {
   "cell_type": "markdown",
   "metadata": {},
   "source": [
    "Next is the type contract. This tells us the types of values of our inputs and outputs (str, int, list, etc). In our case we will input a string and return a boolean:"
   ]
  },
  {
   "cell_type": "code",
   "execution_count": null,
   "metadata": {
    "collapsed": true
   },
   "outputs": [],
   "source": [
    "def ...:\n",
    "    \"\"\" (str) -> bool\n",
    "    \n",
    "    >>> is_palindrome('racecar')\n",
    "    True\n",
    "    >>> is_palindrome('apple')\n",
    "    False\n",
    "    \"\"\""
   ]
  },
  {
   "cell_type": "markdown",
   "metadata": {},
   "source": [
    "Next is the header, which is the name of the function. In our case it will be is_palindrome and take in a string `s`:"
   ]
  },
  {
   "cell_type": "code",
   "execution_count": null,
   "metadata": {
    "collapsed": true
   },
   "outputs": [],
   "source": [
    "def is_palindrome(s):\n",
    "    \"\"\" (str) -> bool\n",
    "    \n",
    "    >>> is_palindrome('racecar')\n",
    "    True\n",
    "    >>> is_palindrome('apple')\n",
    "    False\n",
    "    \"\"\""
   ]
  },
  {
   "cell_type": "markdown",
   "metadata": {},
   "source": [
    "Next is the description, which explains what the function does:"
   ]
  },
  {
   "cell_type": "code",
   "execution_count": null,
   "metadata": {
    "collapsed": true
   },
   "outputs": [],
   "source": [
    "def is_palindrome(s):\n",
    "    \"\"\" (str) -> bool\n",
    "    \n",
    "    Return True if and only if s is a palindrome.\n",
    "    \n",
    "    >>> is_palindrome('racecar')\n",
    "    True\n",
    "    >>> is_palindrome('apple')\n",
    "    False\n",
    "    \"\"\""
   ]
  },
  {
   "cell_type": "markdown",
   "metadata": {},
   "source": [
    "And finally, before we move on to testing, the body of the function where the work is done. I also added some functionality to the script that prompts the user for a word and then returns whether it is a palindrome or not:"
   ]
  },
  {
   "cell_type": "code",
   "execution_count": 3,
   "metadata": {
    "collapsed": false
   },
   "outputs": [
    {
     "name": "stdout",
     "output_type": "stream",
     "text": [
      "Enter a word: apple\n",
      "apple is not a palindrome.\n"
     ]
    }
   ],
   "source": [
    "def is_palindrome(s):\n",
    "    \"\"\" (str) -> bool\n",
    "    \n",
    "    Return True if and only if s is a palindrome.\n",
    "    \n",
    "    >>> is_palindrome('racecar')\n",
    "    True\n",
    "    >>> is_palindrome('apple')\n",
    "    False\n",
    "    \"\"\"\n",
    "    \n",
    "    # Initialize position variables.\n",
    "    i = 0\n",
    "    j = len(s) - 1\n",
    "    \n",
    "    # Continue through positions until middle is reached.\n",
    "    while i < j and s[i] == s[j]:\n",
    "        # Move closer to middle\n",
    "        i += 1\n",
    "        j -= 1\n",
    "    \n",
    "    # If we reached the middle, return True.\n",
    "    # Else return False.\n",
    "    return j <= i\n",
    "\n",
    "if __name__ == '__main__':\n",
    "    word = input('Enter a word: ')\n",
    "    if is_palindrome(word):\n",
    "        print(word, 'is a palindrome.')\n",
    "    else:\n",
    "        print(word, 'is not a palindrome.')"
   ]
  },
  {
   "cell_type": "markdown",
   "metadata": {},
   "source": [
    "Notice the `if __name__ == '__main__':` line of code. This makes sure that the script is importable without executing the script's main functionality. This will make sure there are no issues when running unit tests."
   ]
  },
  {
   "cell_type": "markdown",
   "metadata": {},
   "source": [
    "### Testing\n",
    "\n",
    "When testing our code, it is important to consider three factors:\n",
    "1. Size of tests: empty, single, smallest interesting case, long case?\n",
    "2. Important dichotomies: vowels/non-vowels, even/odd, positive/negative, empty/full?\n",
    "3. Order: does function behave different depending on order?\n",
    "\n",
    "For the palindrome tests, we will want to consider:\n",
    "1. String lengths of 0, 1, 2, 3, 6, 7\n",
    "2. Smallest even palindrome, smallest odd palindrome, long even, long odd\n",
    "3. A True and False case for each.\n",
    "\n",
    "As such our unit tests will be:  \n",
    "`\n",
    "' '  \n",
    "'a'  \n",
    "'aa'  \n",
    "'ab'  \n",
    "'aba'  \n",
    "'abc'  \n",
    "'abccba'  \n",
    "'abcdef'  \n",
    "'abcdcba'  \n",
    "'abcdefg'\n",
    "`"
   ]
  },
  {
   "cell_type": "code",
   "execution_count": null,
   "metadata": {
    "collapsed": false
   },
   "outputs": [],
   "source": [
    "# Import test libraries\n",
    "import unittest\n",
    "import palindrome\n",
    "\n",
    "\n",
    "# Build test class\n",
    "class TestPalindrome(unittest.TestCase):\n",
    "    \"\"\"Example unittest test methods for is_palindrome.\"\"\"\n",
    "\n",
    "    def test_palindrome_example_1(self):\n",
    "        \"\"\"Test is_palindrome for empty case.\"\"\"\n",
    "\n",
    "        actual = palindrome.is_palindrome('')\n",
    "        expected = True\n",
    "        self.assertEqual(expected, actual)\n",
    "\n",
    "    def test_palindrome_example_2(self):\n",
    "        \"\"\"Test is_palindrome for single case.\"\"\"\n",
    "\n",
    "        actual = palindrome.is_palindrome('a')\n",
    "        expected = True\n",
    "        self.assertEqual(expected, actual)\n",
    "    \n",
    "    def test_palindrome_example_3(self):\n",
    "        \"\"\"Test is_palindrome for small even true.\"\"\"\n",
    "\n",
    "        actual = palindrome.is_palindrome('aa')\n",
    "        expected = True\n",
    "        self.assertEqual(expected, actual)\n",
    "        \n",
    "    def test_palindrome_example_4(self):\n",
    "        \"\"\"Test is_palindrome for small even false.\"\"\"\n",
    "\n",
    "        actual = palindrome.is_palindrome('ab')\n",
    "        expected = False\n",
    "        self.assertEqual(expected, actual)\n",
    "        \n",
    "    def test_palindrome_example_5(self):\n",
    "        \"\"\"Test is_palindrome for small odd true.\"\"\"\n",
    "\n",
    "        actual = palindrome.is_palindrome('aba')\n",
    "        expected = True\n",
    "        self.assertEqual(expected, actual)\n",
    "        \n",
    "    def test_palindrome_example_6(self):\n",
    "        \"\"\"Test is_palindrome for small odd false.\"\"\"\n",
    "\n",
    "        actual = palindrome.is_palindrome('abc')\n",
    "        expected = False\n",
    "        self.assertEqual(expected, actual)\n",
    "        \n",
    "    def test_palindrome_example_7(self):\n",
    "        \"\"\"Test is_palindrome for long even true.\"\"\"\n",
    "\n",
    "        actual = palindrome.is_palindrome('abccba')\n",
    "        expected = True\n",
    "        self.assertEqual(expected, actual)\n",
    "        \n",
    "    def test_palindrome_example_8(self):\n",
    "        \"\"\"Test is_palindrome for long even false.\"\"\"\n",
    "\n",
    "        actual = palindrome.is_palindrome('abcdef')\n",
    "        expected = False\n",
    "        self.assertEqual(expected, actual)\n",
    "        \n",
    "    def test_palindrome_example_9(self):\n",
    "        \"\"\"Test is_palindrome for long odd true.\"\"\"\n",
    "\n",
    "        actual = palindrome.is_palindrome('abcdcba')\n",
    "        expected = True\n",
    "        self.assertEqual(expected, actual)\n",
    "        \n",
    "    def test_palindrome_example_10(self):\n",
    "        \"\"\"Test is_palindrome for long odd false.\"\"\"\n",
    "\n",
    "        actual = palindrome.is_palindrome('abcdefg')\n",
    "        expected = False\n",
    "        self.assertEqual(expected, actual)\n",
    "\n",
    "\n",
    "if __name__ == '__main__':\n",
    "    unittest.main(exit=False)"
   ]
  },
  {
   "cell_type": "markdown",
   "metadata": {},
   "source": [
    "```\n",
    "Ran 10 tests in 0.008s\n",
    "\n",
    "OK\n",
    "```"
   ]
  },
  {
   "cell_type": "markdown",
   "metadata": {},
   "source": [
    "References:\n",
    "* https://www.coursera.org/learn/program-code\n",
    "* https://www.python.org/dev/peps/pep-0008/\n",
    "* http://python.net/~goodger/projects/pycon/2007/idiomatic/\n",
    "* https://google.github.io/styleguide/pyguide.html"
   ]
  }
 ],
 "metadata": {
  "kernelspec": {
   "display_name": "Python 3",
   "language": "python",
   "name": "python3"
  },
  "language_info": {
   "codemirror_mode": {
    "name": "ipython",
    "version": 3
   },
   "file_extension": ".py",
   "mimetype": "text/x-python",
   "name": "python",
   "nbconvert_exporter": "python",
   "pygments_lexer": "ipython3",
   "version": "3.5.2"
  }
 },
 "nbformat": 4,
 "nbformat_minor": 2
}
